{
 "cells": [
  {
   "cell_type": "markdown",
   "metadata": {},
   "source": [
    "Task 2"
   ]
  },
  {
   "cell_type": "markdown",
   "metadata": {},
   "source": [
    "Generating matrix(at this task we are using numpy and matplotlib)"
   ]
  },
  {
   "cell_type": "code",
   "execution_count": null,
   "metadata": {},
   "outputs": [
    {
     "name": "stdout",
     "output_type": "stream",
     "text": [
      "[[0 0 0 0 0 0 1 1 0 1 1 0 0 0 0 0 1 0 1 0]\n",
      " [1 0 1 0 0 1 1 1 0 1 0 0 0 0 0 0 0 0 1 0]\n",
      " [1 1 1 1 1 0 1 0 1 0 1 1 1 0 1 1 0 1 1 1]\n",
      " [1 0 0 0 0 0 1 0 1 0 1 1 0 1 1 0 1 0 1 0]\n",
      " [0 0 0 0 1 0 1 1 1 1 0 1 0 1 1 1 1 0 0 1]\n",
      " [1 0 0 1 0 0 0 1 1 1 1 0 0 1 0 1 0 1 1 1]\n",
      " [0 0 0 1 0 1 0 1 1 1 0 0 0 1 1 1 1 0 0 1]\n",
      " [1 0 1 1 1 0 1 0 1 0 0 1 0 1 1 1 0 0 0 0]\n",
      " [1 0 1 1 0 1 0 1 1 0 1 0 1 0 0 1 0 1 1 0]\n",
      " [1 0 1 1 1 1 0 1 0 0 0 0 1 1 0 1 1 0 0 1]\n",
      " [0 1 0 1 0 1 1 0 0 1 0 1 0 0 0 1 1 0 0 0]\n",
      " [0 0 1 0 0 1 1 0 1 1 1 0 0 1 0 1 1 1 0 0]\n",
      " [0 0 1 0 0 0 1 1 1 0 0 0 0 1 0 0 1 0 0 0]\n",
      " [0 0 1 0 1 0 1 0 0 1 1 0 0 1 0 1 0 1 0 1]\n",
      " [0 1 0 0 0 1 0 0 0 1 0 1 0 0 1 0 0 1 1 1]\n",
      " [1 1 1 0 0 0 1 0 1 1 1 1 1 1 0 1 0 1 1 0]\n",
      " [1 1 0 1 1 0 1 0 1 0 0 0 1 1 0 0 1 1 0 0]\n",
      " [0 0 1 1 0 1 0 0 0 0 1 0 0 0 0 1 1 1 1 1]\n",
      " [0 1 0 1 0 0 1 0 1 1 1 0 0 1 1 1 1 1 0 1]\n",
      " [1 1 0 1 1 1 0 1 1 0 1 0 0 0 1 1 0 0 1 0]]\n"
     ]
    }
   ],
   "source": [
    "import numpy as np\n",
    "import matplotlib.pyplot as plt\n",
    "\n",
    "# Generating matrix 20x20 with random bool values ( 0 and 1 ).\n",
    "matrix = np.random.randint(0, 2, (20, 20))\n",
    "\n",
    "print(matrix)"
   ]
  },
  {
   "cell_type": "markdown",
   "metadata": {},
   "source": [
    "Counting living neighbours"
   ]
  },
  {
   "cell_type": "code",
   "execution_count": 22,
   "metadata": {},
   "outputs": [],
   "source": [
    "def count_neighbors(grid, x, y):\n",
    "    \"\"\"Counting living neighbours with decarte coordinates (x, y).\"\"\"\n",
    "    neighbors = [\n",
    "        (-1, -1), (-1, 0), (-1, 1),\n",
    "        (0, -1),         (0, 1),\n",
    "        (1, -1), (1, 0), (1, 1)\n",
    "    ]\n",
    "    count = 0\n",
    "    for dx, dy in neighbors:\n",
    "        nx, ny = x + dx, y + dy\n",
    "        if 0 <= nx < 20 and 0 <= ny < 20:  # check if we are not going beyond the matrix\n",
    "            count += grid[nx, ny]\n",
    "    return count"
   ]
  },
  {
   "cell_type": "markdown",
   "metadata": {},
   "source": [
    "Generating final matrix after final iterations"
   ]
  },
  {
   "cell_type": "code",
   "execution_count": 23,
   "metadata": {},
   "outputs": [],
   "source": [
    "def generate_next_grid(grid):\n",
    "    \"\"\"Generating new matrix after step of game.\"\"\"\n",
    "    new_grid = np.zeros((20, 20), dtype=int)  # Creating new matrix\n",
    "    \n",
    "    for x in range(20):\n",
    "        for y in range(20):\n",
    "            live_neighbors = count_neighbors(grid, x, y)\n",
    "            \n",
    "            # Checking the game conditions\n",
    "            if grid[x, y] == 1:  # Living cell\n",
    "                if live_neighbors in [2, 3]:\n",
    "                    new_grid[x, y] = 1  # Still alive\n",
    "                else:\n",
    "                    new_grid[x, y] = 0  # Dies\n",
    "            else:  # Dead cell\n",
    "                if live_neighbors == 3:\n",
    "                    new_grid[x, y] = 1  # Revives\n",
    "    \n",
    "    return new_grid\n"
   ]
  },
  {
   "cell_type": "markdown",
   "metadata": {},
   "source": [
    "Visualising result. Before final result, printing first and final matrix(to make it easier to see changes)"
   ]
  },
  {
   "cell_type": "code",
   "execution_count": 24,
   "metadata": {},
   "outputs": [
    {
     "name": "stdout",
     "output_type": "stream",
     "text": [
      "Initial Grid:\n",
      "[[0 1 1 0 0 1 0 1 1 0 1 0 1 1 0 0 1 0 0 0]\n",
      " [1 0 1 0 0 1 1 0 0 0 1 1 1 1 1 1 1 1 1 1]\n",
      " [1 0 0 0 0 0 0 0 1 1 0 0 1 0 0 1 1 0 1 0]\n",
      " [1 0 0 1 1 1 0 1 1 0 1 0 0 1 0 1 1 0 0 0]\n",
      " [0 0 0 0 0 1 0 0 1 1 1 1 1 0 1 0 1 1 0 1]\n",
      " [0 0 1 0 0 0 1 1 1 0 1 0 0 0 0 0 1 1 1 0]\n",
      " [1 1 0 1 1 0 0 1 0 1 1 0 0 0 1 0 1 1 1 0]\n",
      " [0 0 0 1 0 0 0 1 0 0 0 0 0 1 0 1 0 1 1 0]\n",
      " [1 0 1 1 0 0 1 0 1 1 1 0 0 0 1 0 0 1 0 0]\n",
      " [0 0 0 1 0 1 0 0 0 0 0 0 1 0 1 1 1 1 1 0]\n",
      " [0 0 1 0 1 0 0 1 0 1 1 0 1 0 1 0 0 1 0 0]\n",
      " [1 0 0 0 0 1 0 1 0 1 0 0 1 1 0 1 1 0 1 0]\n",
      " [0 0 1 0 1 0 0 1 0 1 0 1 1 1 1 1 1 0 0 1]\n",
      " [0 0 1 0 1 1 1 0 1 1 1 0 0 0 0 1 0 0 0 0]\n",
      " [0 0 0 1 0 1 1 0 1 0 0 0 1 0 1 1 1 0 0 0]\n",
      " [1 0 1 1 1 1 1 1 1 1 0 0 0 0 0 0 1 0 0 1]\n",
      " [1 0 0 0 1 0 0 1 1 0 0 0 0 0 0 1 0 1 0 0]\n",
      " [1 1 1 0 0 0 1 1 1 0 0 0 1 1 0 0 0 0 0 0]\n",
      " [1 0 1 1 0 1 1 1 1 1 1 1 0 1 1 0 0 0 1 1]\n",
      " [1 0 1 0 0 1 0 1 0 0 0 0 0 0 1 1 0 0 1 0]]\n",
      "\n",
      "Final Grid After 20 Iterations:\n",
      "[[0 0 0 0 1 1 0 0 0 0 0 0 0 0 0 0 0 0 0 0]\n",
      " [0 0 0 1 0 1 0 0 0 0 0 0 0 0 0 0 0 0 0 0]\n",
      " [0 0 0 0 0 0 0 0 0 0 0 1 0 0 0 1 0 0 0 0]\n",
      " [0 0 0 0 0 0 0 0 0 0 0 1 0 1 1 0 0 1 0 0]\n",
      " [0 0 0 0 0 0 0 0 0 0 0 0 0 0 1 0 0 1 0 0]\n",
      " [0 0 0 0 0 0 0 0 0 0 1 1 0 0 0 1 0 1 0 0]\n",
      " [0 0 0 0 0 0 0 0 0 1 0 0 0 1 0 0 0 0 0 0]\n",
      " [0 0 0 0 0 0 0 0 0 1 1 0 0 1 0 0 0 0 0 0]\n",
      " [0 0 0 0 0 0 0 0 0 1 0 0 0 0 1 0 1 1 1 0]\n",
      " [0 0 0 0 0 0 0 0 0 0 1 0 0 1 0 0 1 1 1 0]\n",
      " [0 0 0 0 0 0 0 0 0 0 0 1 1 0 0 0 0 0 0 0]\n",
      " [0 0 0 0 0 0 0 0 0 0 0 0 0 0 0 0 0 0 0 0]\n",
      " [0 0 0 0 0 0 0 0 0 0 0 0 0 0 0 0 0 0 0 0]\n",
      " [0 0 0 0 0 0 0 0 0 0 0 0 0 0 0 0 0 0 0 0]\n",
      " [0 0 0 0 0 0 0 0 0 0 0 0 0 0 0 0 0 0 0 0]\n",
      " [0 0 0 0 0 0 0 0 0 0 0 0 0 0 0 0 0 0 0 0]\n",
      " [1 1 1 0 0 0 0 0 0 0 0 0 0 0 0 0 0 0 0 0]\n",
      " [0 0 0 0 0 0 0 0 0 0 0 0 0 0 0 0 0 0 0 0]\n",
      " [0 0 0 0 0 1 1 0 0 0 0 0 0 0 0 0 0 0 0 0]\n",
      " [0 0 0 0 0 1 1 0 0 0 0 0 0 0 0 0 0 0 0 0]]\n"
     ]
    },
    {
     "data": {
      "image/png": "[encoded data removed]",
      "text/plain": [
       "<Figure size 640x480 with 1 Axes>"
      ]
     },
     "metadata": {},
     "output_type": "display_data"
    }
   ],
   "source": [
    "def visualize(grid):\n",
    "    \"\"\"Visualicing matrix with matplotlib.\"\"\"\n",
    "    plt.imshow(grid, cmap=\"Greens\", interpolation=\"nearest\")\n",
    "    plt.xticks([])\n",
    "    plt.yticks([])\n",
    "    plt.show()\n",
    "\n",
    "# Starting matrix\n",
    "initial_grid = np.random.randint(0, 2, (20, 20))\n",
    "\n",
    "# Copying starting matrix, so we dont lose it\n",
    "current_grid = initial_grid.copy()\n",
    "\n",
    "# Doing 20 iteration of game\n",
    "for _ in range(20):\n",
    "    current_grid = generate_next_grid(current_grid)\n",
    "\n",
    "# Printing result\n",
    "print(\"Initial Grid:\")\n",
    "print(initial_grid)\n",
    "\n",
    "print(\"\\nFinal Grid After 20 Iterations:\")\n",
    "print(current_grid)\n",
    "\n",
    "# Visualizing final matrix\n",
    "visualize(current_grid)"
   ]
  }
 ],
 "metadata": {
  "kernelspec": {
   "display_name": "base",
   "language": "python",
   "name": "python3"
  },
  "language_info": {
   "codemirror_mode": {
    "name": "ipython",
    "version": 3
   },
   "file_extension": ".py",
   "mimetype": "text/x-python",
   "name": "python",
   "nbconvert_exporter": "python",
   "pygments_lexer": "ipython3",
   "version": "3.12.4"
  }
 },
 "nbformat": 4,
 "nbformat_minor": 2
}
